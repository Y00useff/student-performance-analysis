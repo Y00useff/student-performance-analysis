{
 "cells": [
  {
   "cell_type": "code",
   "execution_count": 30,
   "id": "78224bda-db31-4f5e-bc0a-a61626302087",
   "metadata": {},
   "outputs": [
    {
     "name": "stdout",
     "output_type": "stream",
     "text": [
      "all wbborking\n"
     ]
    }
   ],
   "source": [
    "# Import necessary libraries\n",
    "import pandas as pd\n",
    "import matplotlib.pyplot as plt\n",
    "import seaborn as sns\n",
    "from sklearn.model_selection import train_test_split\n",
    "from sklearn.preprocessing import StandardScaler\n",
    "from sklearn.ensemble import RandomForestClassifier\n",
    "from sklearn.svm import SVC\n",
    "from sklearn.metrics import accuracy_score, classification_report, confusion_matrix\n",
    "print(\"all wbborking\")"
   ]
  },
  {
   "cell_type": "code",
   "execution_count": 11,
   "id": "b9208b86-3a8a-4107-8346-86c33eb870d7",
   "metadata": {},
   "outputs": [
    {
     "data": {
      "text/html": [
       "<div>\n",
       "<style scoped>\n",
       "    .dataframe tbody tr th:only-of-type {\n",
       "        vertical-align: middle;\n",
       "    }\n",
       "\n",
       "    .dataframe tbody tr th {\n",
       "        vertical-align: top;\n",
       "    }\n",
       "\n",
       "    .dataframe thead th {\n",
       "        text-align: right;\n",
       "    }\n",
       "</style>\n",
       "<table border=\"1\" class=\"dataframe\">\n",
       "  <thead>\n",
       "    <tr style=\"text-align: right;\">\n",
       "      <th></th>\n",
       "      <th>student_id</th>\n",
       "      <th>name</th>\n",
       "      <th>email</th>\n",
       "      <th>gender</th>\n",
       "      <th>major</th>\n",
       "      <th>gpa</th>\n",
       "      <th>country</th>\n",
       "      <th>enrollment_year</th>\n",
       "      <th>year_level</th>\n",
       "      <th>student_name</th>\n",
       "      <th>...</th>\n",
       "      <th>Quizzes_Avg</th>\n",
       "      <th>prev_score</th>\n",
       "      <th>Study_Hours_per_Week</th>\n",
       "      <th>Attendance (%)</th>\n",
       "      <th>Participation_Score</th>\n",
       "      <th>Stress_Level</th>\n",
       "      <th>Sleep_Hours_per_Night</th>\n",
       "      <th>time_spent</th>\n",
       "      <th>clickstream</th>\n",
       "      <th>activity</th>\n",
       "    </tr>\n",
       "  </thead>\n",
       "  <tbody>\n",
       "    <tr>\n",
       "      <th>0</th>\n",
       "      <td>372011</td>\n",
       "      <td>Shandie Phant L</td>\n",
       "      <td>sphantab11@xinhuanet.com</td>\n",
       "      <td>Female</td>\n",
       "      <td>Data Science</td>\n",
       "      <td>3.23</td>\n",
       "      <td>Peru</td>\n",
       "      <td>2019</td>\n",
       "      <td>Freshman</td>\n",
       "      <td>Shandie Phant L</td>\n",
       "      <td>...</td>\n",
       "      <td>51.020408</td>\n",
       "      <td>85</td>\n",
       "      <td>96.0</td>\n",
       "      <td>96.981906</td>\n",
       "      <td>50</td>\n",
       "      <td>44.444444</td>\n",
       "      <td>11.233975</td>\n",
       "      <td>90.000000</td>\n",
       "      <td>normal</td>\n",
       "      <td>online_courses</td>\n",
       "    </tr>\n",
       "    <tr>\n",
       "      <th>1</th>\n",
       "      <td>45201</td>\n",
       "      <td>Emile Ellacott T</td>\n",
       "      <td>eellacott18201@plala.or.jp</td>\n",
       "      <td>Male</td>\n",
       "      <td>Economics</td>\n",
       "      <td>3.07</td>\n",
       "      <td>Peru</td>\n",
       "      <td>2020</td>\n",
       "      <td>Senior</td>\n",
       "      <td>Solly Stops</td>\n",
       "      <td>...</td>\n",
       "      <td>77.551020</td>\n",
       "      <td>69</td>\n",
       "      <td>12.0</td>\n",
       "      <td>26.602468</td>\n",
       "      <td>0</td>\n",
       "      <td>100.000000</td>\n",
       "      <td>0.000000</td>\n",
       "      <td>12.962963</td>\n",
       "      <td>unusual</td>\n",
       "      <td>none</td>\n",
       "    </tr>\n",
       "    <tr>\n",
       "      <th>2</th>\n",
       "      <td>228592</td>\n",
       "      <td>Nevin Pfeffel U</td>\n",
       "      <td>npfeffel6b592@howstuffworks.com</td>\n",
       "      <td>Male</td>\n",
       "      <td>Biology</td>\n",
       "      <td>2.20</td>\n",
       "      <td>Thailand</td>\n",
       "      <td>2022</td>\n",
       "      <td>Junior</td>\n",
       "      <td>Nevin Pfeffel U</td>\n",
       "      <td>...</td>\n",
       "      <td>83.673469</td>\n",
       "      <td>93</td>\n",
       "      <td>0.0</td>\n",
       "      <td>17.068649</td>\n",
       "      <td>40</td>\n",
       "      <td>66.666667</td>\n",
       "      <td>0.000000</td>\n",
       "      <td>10.000000</td>\n",
       "      <td>normal</td>\n",
       "      <td>none</td>\n",
       "    </tr>\n",
       "    <tr>\n",
       "      <th>3</th>\n",
       "      <td>179202</td>\n",
       "      <td>Trix Peat U</td>\n",
       "      <td>tpeat4y202@shop-pro.jp</td>\n",
       "      <td>Female</td>\n",
       "      <td>Data Science</td>\n",
       "      <td>2.35</td>\n",
       "      <td>Yemen</td>\n",
       "      <td>2024</td>\n",
       "      <td>Sophomore</td>\n",
       "      <td>Carolus Blowne</td>\n",
       "      <td>...</td>\n",
       "      <td>46.938776</td>\n",
       "      <td>42</td>\n",
       "      <td>84.0</td>\n",
       "      <td>66.274547</td>\n",
       "      <td>40</td>\n",
       "      <td>77.777778</td>\n",
       "      <td>0.000000</td>\n",
       "      <td>95.185185</td>\n",
       "      <td>unusual</td>\n",
       "      <td>online_forum</td>\n",
       "    </tr>\n",
       "    <tr>\n",
       "      <th>4</th>\n",
       "      <td>443202</td>\n",
       "      <td>Pall Fotherby U</td>\n",
       "      <td>pfotherbyca202@howstuffworks.com</td>\n",
       "      <td>Male</td>\n",
       "      <td>Psychology</td>\n",
       "      <td>2.79</td>\n",
       "      <td>China</td>\n",
       "      <td>2022</td>\n",
       "      <td>Freshman</td>\n",
       "      <td>Ardelis Rojahn</td>\n",
       "      <td>...</td>\n",
       "      <td>97.959184</td>\n",
       "      <td>58</td>\n",
       "      <td>84.0</td>\n",
       "      <td>57.436822</td>\n",
       "      <td>50</td>\n",
       "      <td>66.666667</td>\n",
       "      <td>0.000000</td>\n",
       "      <td>87.777778</td>\n",
       "      <td>unusual</td>\n",
       "      <td>study_group</td>\n",
       "    </tr>\n",
       "  </tbody>\n",
       "</table>\n",
       "<p>5 rows × 29 columns</p>\n",
       "</div>"
      ],
      "text/plain": [
       "   student_id              name                             email  gender  \\\n",
       "0      372011   Shandie Phant L          sphantab11@xinhuanet.com  Female   \n",
       "1       45201  Emile Ellacott T        eellacott18201@plala.or.jp    Male   \n",
       "2      228592   Nevin Pfeffel U   npfeffel6b592@howstuffworks.com    Male   \n",
       "3      179202       Trix Peat U            tpeat4y202@shop-pro.jp  Female   \n",
       "4      443202   Pall Fotherby U  pfotherbyca202@howstuffworks.com    Male   \n",
       "\n",
       "          major   gpa   country  enrollment_year year_level     student_name  \\\n",
       "0  Data Science  3.23      Peru             2019   Freshman  Shandie Phant L   \n",
       "1     Economics  3.07      Peru             2020     Senior      Solly Stops   \n",
       "2       Biology  2.20  Thailand             2022     Junior  Nevin Pfeffel U   \n",
       "3  Data Science  2.35     Yemen             2024  Sophomore   Carolus Blowne   \n",
       "4    Psychology  2.79     China             2022   Freshman   Ardelis Rojahn   \n",
       "\n",
       "   ... Quizzes_Avg prev_score Study_Hours_per_Week Attendance (%)  \\\n",
       "0  ...   51.020408         85                 96.0      96.981906   \n",
       "1  ...   77.551020         69                 12.0      26.602468   \n",
       "2  ...   83.673469         93                  0.0      17.068649   \n",
       "3  ...   46.938776         42                 84.0      66.274547   \n",
       "4  ...   97.959184         58                 84.0      57.436822   \n",
       "\n",
       "   Participation_Score  Stress_Level  Sleep_Hours_per_Night  time_spent  \\\n",
       "0                   50     44.444444              11.233975   90.000000   \n",
       "1                    0    100.000000               0.000000   12.962963   \n",
       "2                   40     66.666667               0.000000   10.000000   \n",
       "3                   40     77.777778               0.000000   95.185185   \n",
       "4                   50     66.666667               0.000000   87.777778   \n",
       "\n",
       "   clickstream        activity  \n",
       "0       normal  online_courses  \n",
       "1      unusual            none  \n",
       "2       normal            none  \n",
       "3      unusual    online_forum  \n",
       "4      unusual     study_group  \n",
       "\n",
       "[5 rows x 29 columns]"
      ]
     },
     "execution_count": 11,
     "metadata": {},
     "output_type": "execute_result"
    }
   ],
   "source": [
    "# Load the dataset\n",
    "data_path = r\"E:\\amr\\Pr_ML\\enhanced_dataset.csv\"\n",
    "df = pd.read_csv(data_path)\n",
    "df.head()\n"
   ]
  },
  {
   "cell_type": "code",
   "execution_count": 13,
   "id": "74827d9a-0819-404d-a91c-14c05abcbab3",
   "metadata": {},
   "outputs": [
    {
     "name": "stdout",
     "output_type": "stream",
     "text": [
      "student_id                 int64\n",
      "name                      object\n",
      "email                     object\n",
      "gender                    object\n",
      "major                     object\n",
      "gpa                      float64\n",
      "country                   object\n",
      "enrollment_year            int64\n",
      "year_level                object\n",
      "student_name              object\n",
      "subject                   object\n",
      "quiz_date                 object\n",
      "device_used                 int8\n",
      "status                    object\n",
      "quiz_id                  float64\n",
      "duration_limit           float64\n",
      "question_count           float64\n",
      "Midterm_Score            float64\n",
      "Assignments_Avg          float64\n",
      "Quizzes_Avg              float64\n",
      "prev_score                 int64\n",
      "Study_Hours_per_Week     float64\n",
      "Attendance (%)           float64\n",
      "Participation_Score        int64\n",
      "Stress_Level             float64\n",
      "Sleep_Hours_per_Night    float64\n",
      "time_spent               float64\n",
      "clickstream               object\n",
      "activity                  object\n",
      "dtype: object\n"
     ]
    }
   ],
   "source": [
    "# Check the data types of all columns to identify categorical columns\n",
    "print(df.dtypes)\n"
   ]
  },
  {
   "cell_type": "code",
   "execution_count": 22,
   "id": "41f753ec-2865-43b4-bc95-0895bc0ad40c",
   "metadata": {},
   "outputs": [
    {
     "name": "stdout",
     "output_type": "stream",
     "text": [
      "student_id               0\n",
      "name                     0\n",
      "email                    0\n",
      "gender                   0\n",
      "major                    0\n",
      "gpa                      0\n",
      "country                  0\n",
      "enrollment_year          0\n",
      "year_level               0\n",
      "student_name             0\n",
      "subject                  0\n",
      "quiz_date                0\n",
      "device_used              0\n",
      "status                   0\n",
      "quiz_id                  0\n",
      "duration_limit           0\n",
      "question_count           0\n",
      "Midterm_Score            0\n",
      "Assignments_Avg          0\n",
      "Quizzes_Avg              0\n",
      "prev_score               0\n",
      "Study_Hours_per_Week     0\n",
      "Attendance (%)           0\n",
      "Participation_Score      0\n",
      "Stress_Level             0\n",
      "Sleep_Hours_per_Night    0\n",
      "time_spent               0\n",
      "clickstream              0\n",
      "activity                 0\n",
      "dtype: int64\n"
     ]
    }
   ],
   "source": [
    "# Check for missing values\n",
    "print(df.isnull().sum())\n",
    "\n",
    "# Handle missing values by dropping rows with missing data (or alternatively, fill them with a strategy like mean or median)\n",
    "df = df.dropna()  # Drop rows with missing values\n"
   ]
  },
  {
   "cell_type": "code",
   "execution_count": 45,
   "id": "aaf9c0e4-a1f6-44da-8de7-fe5db84d39df",
   "metadata": {},
   "outputs": [
    {
     "name": "stdout",
     "output_type": "stream",
     "text": [
      "[1 3 2 0]\n",
      "[2 3 1 0]\n"
     ]
    }
   ],
   "source": [
    "# Encode 'clickstream' and 'device_used' columns as they are categorical features\n",
    "label_encoder = LabelEncoder()\n",
    "\n",
    "# Encode 'clickstream' column (if categorical)\n",
    "df['clickstream'] = label_encoder.fit_transform(df['clickstream'])\n",
    "\n",
    "# Encode 'device_used' column (if categorical)\n",
    "df['device_used'] = label_encoder.fit_transform(df['device_used'])\n",
    "\n",
    "# Check the unique values in the encoded columns\n",
    "print(df['clickstream'].unique())\n",
    "print(df['device_used'].unique())\n",
    "\n",
    "#============================click stream===================\n",
    "#normal >>1\n",
    "#unusual >>3\n",
    "#random_answers >>2\n",
    "#consistent_answers >>0\n",
    "#===========================device_used====================\n",
    "#Desktop >> 0\n",
    "#Laptop >> 1\n",
    "#Phone >> 2\n",
    "#Tablet >> 3"
   ]
  },
  {
   "cell_type": "code",
   "execution_count": 34,
   "id": "0f2e5c4f-2c4d-40e1-a4c4-f1eeafe5fc9e",
   "metadata": {},
   "outputs": [],
   "source": [
    "# Define features (X) and target (y)\n",
    "X = df[['clickstream', 'time_spent', 'device_used', 'Study_Hours_per_Week', 'Stress_Level', 'Attendance (%)', 'Participation_Score']]  # Features\n",
    "y = df['status']  # Target: status (Cheated or Not Cheated)\n"
   ]
  },
  {
   "cell_type": "code",
   "execution_count": 35,
   "id": "8ffcd28c-853b-4c33-849a-86695091a2f5",
   "metadata": {},
   "outputs": [
    {
     "name": "stdout",
     "output_type": "stream",
     "text": [
      "Training set shape: (84515, 7)\n",
      "Testing set shape: (21129, 7)\n"
     ]
    }
   ],
   "source": [
    "X_train, X_test, y_train, y_test = train_test_split(X, y, test_size=0.2, random_state=42)\n",
    "print(\"Training set shape:\", X_train.shape)\n",
    "print(\"Testing set shape:\", X_test.shape)\n"
   ]
  },
  {
   "cell_type": "code",
   "execution_count": 36,
   "id": "75b043de-4f7d-476f-8b69-ce6b1d4f1a85",
   "metadata": {},
   "outputs": [
    {
     "name": "stdout",
     "output_type": "stream",
     "text": [
      "[[ 1.15856353e+00 -7.55938607e-01 -7.36398344e-01 -6.02585856e-01\n",
      "   2.70773218e-02 -9.60167633e-02  3.19433757e-01]\n",
      " [-3.81480459e-01  7.01511300e-01  1.23908789e+00  4.64546203e-01\n",
      "   2.70773218e-02  2.69868716e-01 -3.13102037e-01]\n",
      " [-1.15150246e+00  1.35073899e+00 -7.36398344e-01  1.53167826e+00\n",
      "  -1.29362090e+00  1.89316403e+00  9.51969552e-01]\n",
      " [ 1.15856353e+00  8.07507657e-01  2.51344773e-01  8.64720726e-01\n",
      "   3.57251878e-01  1.19054821e-03 -6.29369935e-01]\n",
      " [ 1.15856353e+00  1.60248033e+00  1.23908789e+00  1.66506977e+00\n",
      "   1.01760099e+00  1.32584965e+00 -6.29369935e-01]]\n"
     ]
    }
   ],
   "source": [
    "# Initialize the StandardScaler\n",
    "scaler = StandardScaler()\n",
    "\n",
    "# Scale the feature data\n",
    "X_train_scaled = scaler.fit_transform(X_train)\n",
    "X_test_scaled = scaler.transform(X_test)\n",
    "\n",
    "# Check the first few rows of the scaled data\n",
    "print(X_train_scaled[:5])\n"
   ]
  },
  {
   "cell_type": "code",
   "execution_count": 37,
   "id": "54e0fac5-d3fe-4206-9c60-599f6dbc17bc",
   "metadata": {},
   "outputs": [
    {
     "name": "stdout",
     "output_type": "stream",
     "text": [
      "Random Forest Classifier - Accuracy: 0.7254011074826069\n",
      "Random Forest Classifier - Classification Report:\n",
      "               precision    recall  f1-score   support\n",
      "\n",
      "     cheated       0.60      0.53      0.56      7054\n",
      " not cheated       0.78      0.82      0.80     14075\n",
      "\n",
      "    accuracy                           0.73     21129\n",
      "   macro avg       0.69      0.68      0.68     21129\n",
      "weighted avg       0.72      0.73      0.72     21129\n",
      "\n"
     ]
    }
   ],
   "source": [
    "# Initialize the Random Forest Classifier model\n",
    "rf_model = RandomForestClassifier(random_state=42)\n",
    "\n",
    "# Train the model\n",
    "rf_model.fit(X_train_scaled, y_train)\n",
    "\n",
    "# Predict on the test set\n",
    "y_pred_rf = rf_model.predict(X_test_scaled)\n",
    "\n",
    "# Evaluate the Random Forest model\n",
    "print(\"Random Forest Classifier - Accuracy:\", accuracy_score(y_test, y_pred_rf))\n",
    "print(\"Random Forest Classifier - Classification Report:\\n\", classification_report(y_test, y_pred_rf))\n"
   ]
  },
  {
   "cell_type": "code",
   "execution_count": 38,
   "id": "f263262d-6218-46e0-9509-2cca263d5df9",
   "metadata": {},
   "outputs": [
    {
     "name": "stdout",
     "output_type": "stream",
     "text": [
      "SVM Classifier - Accuracy: 0.753230157603294\n",
      "SVM Classifier - Classification Report:\n",
      "               precision    recall  f1-score   support\n",
      "\n",
      "     cheated       0.66      0.53      0.59      7054\n",
      " not cheated       0.79      0.87      0.82     14075\n",
      "\n",
      "    accuracy                           0.75     21129\n",
      "   macro avg       0.72      0.70      0.71     21129\n",
      "weighted avg       0.75      0.75      0.75     21129\n",
      "\n"
     ]
    }
   ],
   "source": [
    "# Initialize the Support Vector Machine (SVM) model\n",
    "svm_model = SVC(random_state=42)\n",
    "\n",
    "# Train the model\n",
    "svm_model.fit(X_train_scaled, y_train)\n",
    "\n",
    "# Predict on the test set\n",
    "y_pred_svm = svm_model.predict(X_test_scaled)\n",
    "\n",
    "# Evaluate the SVM model\n",
    "print(\"SVM Classifier - Accuracy:\", accuracy_score(y_test, y_pred_svm))\n",
    "print(\"SVM Classifier - Classification Report:\\n\", classification_report(y_test, y_pred_svm))\n"
   ]
  },
  {
   "cell_type": "code",
   "execution_count": 40,
   "id": "a3e9df57-f6b2-4e6e-ac7c-e96b9a153b3a",
   "metadata": {},
   "outputs": [
    {
     "data": {
      "image/png": "[encoded data removed]",
      "text/plain": [
       "<Figure size 640x480 with 1 Axes>"
      ]
     },
     "metadata": {},
     "output_type": "display_data"
    }
   ],
   "source": [
    "# Confusion Matrix for Random Forest\n",
    "conf_matrix_rf = confusion_matrix(y_test, y_pred_rf)\n",
    "sns.heatmap(conf_matrix_rf, annot=True, fmt=\"d\", cmap=\"Blues\", cbar=False)\n",
    "plt.title(\"Random Forest Confusion Matrix\")\n",
    "plt.xlabel(\"Predicted\")\n",
    "plt.ylabel(\"Actual\")\n",
    "plt.show()\n"
   ]
  },
  {
   "cell_type": "code",
   "execution_count": 41,
   "id": "daf4aaa4-b8b5-4354-858f-97720715cfa0",
   "metadata": {},
   "outputs": [
    {
     "data": {
      "image/png": "[encoded data removed]",
      "text/plain": [
       "<Figure size 640x480 with 1 Axes>"
      ]
     },
     "metadata": {},
     "output_type": "display_data"
    }
   ],
   "source": [
    "# Confusion Matrix for SVM\n",
    "conf_matrix_svm = confusion_matrix(y_test, y_pred_svm)\n",
    "sns.heatmap(conf_matrix_svm, annot=True, fmt=\"d\", cmap=\"Blues\", cbar=False)\n",
    "plt.title(\"SVM Confusion Matrix\")\n",
    "plt.xlabel(\"Predicted\")\n",
    "plt.ylabel(\"Actual\")\n",
    "plt.show()\n"
   ]
  },
  {
   "cell_type": "code",
   "execution_count": 43,
   "id": "a088c645-80d7-45d2-b5b1-d3cf091fa211",
   "metadata": {},
   "outputs": [
    {
     "name": "stdout",
     "output_type": "stream",
     "text": [
      "           Model  Accuracy  Precision    Recall  F1-Score\n",
      "0  Random Forest  0.725401   0.689123  0.677598  0.682113\n",
      "1            SVM  0.753230   0.724581  0.697602  0.706446\n"
     ]
    }
   ],
   "source": [
    "# Create a DataFrame for comparison\n",
    "results_df = pd.DataFrame(results)\n",
    "\n",
    "# Display the DataFrame directly\n",
    "print(results_df)\n"
   ]
  },
  {
   "cell_type": "code",
   "execution_count": 44,
   "id": "fe2d1bb4-dd3a-4d61-a570-7664949b55e7",
   "metadata": {},
   "outputs": [
    {
     "data": {
      "image/png": "[encoded data removed]",
      "text/plain": [
       "<Figure size 1000x600 with 1 Axes>"
      ]
     },
     "metadata": {},
     "output_type": "display_data"
    }
   ],
   "source": [
    "# Create a bar plot to compare the models\n",
    "results_df.set_index('Model').plot(kind='bar', figsize=(10, 6), colormap='viridis')\n",
    "\n",
    "# Add labels and title\n",
    "plt.title('Model Comparison: Random Forest vs SVM')\n",
    "plt.xlabel('Model')\n",
    "plt.ylabel('Score')\n",
    "plt.xticks(rotation=0)\n",
    "plt.grid(True)\n",
    "plt.show()\n"
   ]
  },
  {
   "cell_type": "code",
   "execution_count": null,
   "id": "5108c0cf-6355-4ffc-9fe3-7a1094136869",
   "metadata": {},
   "outputs": [],
   "source": []
  }
 ],
 "metadata": {
  "kernelspec": {
   "display_name": "Python (jobnlp)",
   "language": "python",
   "name": "jobnlp"
  },
  "language_info": {
   "codemirror_mode": {
    "name": "ipython",
    "version": 3
   },
   "file_extension": ".py",
   "mimetype": "text/x-python",
   "name": "python",
   "nbconvert_exporter": "python",
   "pygments_lexer": "ipython3",
   "version": "3.12.7"
  }
 },
 "nbformat": 4,
 "nbformat_minor": 5
}
